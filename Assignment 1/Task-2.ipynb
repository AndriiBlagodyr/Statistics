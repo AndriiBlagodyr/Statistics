{
 "cells": [
  {
   "cell_type": "code",
   "execution_count": 20,
   "metadata": {},
   "outputs": [],
   "source": [
    "import numpy as np\n",
    "from scipy.special import beta\n",
    "from scipy.optimize import minimize"
   ]
  },
  {
   "cell_type": "code",
   "execution_count": 21,
   "metadata": {},
   "outputs": [],
   "source": [
    "# a.\n",
    "def loglikelihoodFunc(x, df):\n",
    "    return np.sum(np.log((1 + x**2/df)**((-df-1)/2) / ((beta(df/2, 0.5) * (df)**(1/2)))))"
   ]
  },
  {
   "cell_type": "code",
   "execution_count": 22,
   "metadata": {},
   "outputs": [
    {
     "name": "stdout",
     "output_type": "stream",
     "text": [
      "      fun: 151.81427072235252\n",
      " hess_inv: array([[15.22767957]])\n",
      "      jac: array([-3.81469727e-06])\n",
      "  message: 'Optimization terminated successfully.'\n",
      "     nfev: 24\n",
      "      nit: 7\n",
      "     njev: 8\n",
      "   status: 0\n",
      "  success: True\n",
      "        x: array([8.02323659])\n"
     ]
    }
   ],
   "source": [
    "# b.\n",
    "df=5\n",
    "x = np.random.standard_t(5, size=100)\n",
    "\n",
    "res = minimize(lambda df, params: -1*loglikelihoodFunc(x, df), df, args=x)\n",
    "print(res)"
   ]
  },
  {
   "cell_type": "code",
   "execution_count": 23,
   "metadata": {},
   "outputs": [
    {
     "name": "stdout",
     "output_type": "stream",
     "text": [
      "      fun: 8174.121284985218\n",
      " hess_inv: array([[0.05903855]])\n",
      "      jac: array([0.])\n",
      "  message: 'Optimization terminated successfully.'\n",
      "     nfev: 15\n",
      "      nit: 3\n",
      "     njev: 5\n",
      "   status: 0\n",
      "  success: True\n",
      "        x: array([4.82128905])\n"
     ]
    }
   ],
   "source": [
    "# c.\n",
    "x = np.random.standard_t(5, size=5000)\n",
    "\n",
    "res = minimize(lambda df, params: -1*loglikelihoodFunc(x, df),\n",
    "                        df, args=x)\n",
    "\n",
    "print(res)"
   ]
  },
  {
   "cell_type": "code",
   "execution_count": null,
   "metadata": {},
   "outputs": [],
   "source": [
    "# Increasing the sample size leads to more consistent estimator. In task c result is too close to 5."
   ]
  }
 ],
 "metadata": {
  "kernelspec": {
   "display_name": "Python 3",
   "language": "python",
   "name": "python3"
  },
  "language_info": {
   "codemirror_mode": {
    "name": "ipython",
    "version": 3
   },
   "file_extension": ".py",
   "mimetype": "text/x-python",
   "name": "python",
   "nbconvert_exporter": "python",
   "pygments_lexer": "ipython3",
   "version": "3.7.3"
  }
 },
 "nbformat": 4,
 "nbformat_minor": 2
}
